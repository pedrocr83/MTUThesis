{
 "cells": [
  {
   "cell_type": "code",
   "execution_count": 1,
   "id": "3ae710fa-2ff3-4a89-a826-472a3e9cd29c",
   "metadata": {},
   "outputs": [],
   "source": [
    "import random\n",
    "import pandas as pd\n",
    "import numpy as np\n",
    "import os\n",
    "import matplotlib.pyplot as plt\n",
    "import seaborn as sns\n",
    "from sklearn.neighbors import NearestNeighbors\n",
    "from sklearn.cluster import DBSCAN\n",
    "from sklearn.ensemble import IsolationForest\n",
    "import hdbscan\n",
    "random_state = np.random.RandomState(39)\n",
    "random.seed(39)"
   ]
  },
  {
   "cell_type": "code",
   "execution_count": 2,
   "id": "a5e61219-1ae4-43fa-ba4f-5ff1dda4e622",
   "metadata": {},
   "outputs": [
    {
     "ename": "FileNotFoundError",
     "evalue": "[Errno 2] No such file or directory: '/home/pedro/Desktop/Masters/4th Semester/Thesis/experiments/results/turnbaugh/genus_clr_gunifrac/tempfiles'",
     "output_type": "error",
     "traceback": [
      "\u001b[0;31m---------------------------------------------------------------------------\u001b[0m",
      "\u001b[0;31mFileNotFoundError\u001b[0m                         Traceback (most recent call last)",
      "Input \u001b[0;32mIn [2]\u001b[0m, in \u001b[0;36m<cell line: 7>\u001b[0;34m()\u001b[0m\n\u001b[1;32m      4\u001b[0m unifrac_measure\u001b[38;5;241m=\u001b[39m\u001b[38;5;124m\"\u001b[39m\u001b[38;5;124mgunifrac\u001b[39m\u001b[38;5;124m\"\u001b[39m\n\u001b[1;32m      6\u001b[0m tempfiles_path \u001b[38;5;241m=\u001b[39m \u001b[38;5;124m'\u001b[39m\u001b[38;5;124m/home/pedro/Desktop/Masters/4th Semester/Thesis/experiments/results/turnbaugh/genus_clr_gunifrac/tempfiles\u001b[39m\u001b[38;5;124m'\u001b[39m\n\u001b[0;32m----> 7\u001b[0m tempfiles \u001b[38;5;241m=\u001b[39m \u001b[43mos\u001b[49m\u001b[38;5;241;43m.\u001b[39;49m\u001b[43mlistdir\u001b[49m\u001b[43m(\u001b[49m\u001b[43mtempfiles_path\u001b[49m\u001b[43m)\u001b[49m\n\u001b[1;32m      9\u001b[0m \u001b[38;5;28;01mfor\u001b[39;00m file \u001b[38;5;129;01min\u001b[39;00m tempfiles:\n\u001b[1;32m     10\u001b[0m     \u001b[38;5;28;01mif\u001b[39;00m \u001b[38;5;28mall\u001b[39m(x \u001b[38;5;129;01min\u001b[39;00m file \u001b[38;5;28;01mfor\u001b[39;00m x \u001b[38;5;129;01min\u001b[39;00m [study_name, taxa_rank, transformation, unifrac_measure, \u001b[38;5;124m'\u001b[39m\u001b[38;5;124mclass1\u001b[39m\u001b[38;5;124m'\u001b[39m, \u001b[38;5;124m'\u001b[39m\u001b[38;5;124motus\u001b[39m\u001b[38;5;124m'\u001b[39m]):\n",
      "\u001b[0;31mFileNotFoundError\u001b[0m: [Errno 2] No such file or directory: '/home/pedro/Desktop/Masters/4th Semester/Thesis/experiments/results/turnbaugh/genus_clr_gunifrac/tempfiles'"
     ]
    }
   ],
   "source": [
    "study_name=\"turnbaugh\"\n",
    "taxa_rank=\"genus\"\n",
    "transformation=\"Log10\"\n",
    "unifrac_measure=\"gunifrac\"\n",
    "\n",
    "tempfiles_path = '/home/pedro/Desktop/Masters/4th Semester/Thesis/experiments/results/turnbaugh/genus_clr_gunifrac/tempfiles'\n",
    "tempfiles = os.listdir(tempfiles_path)\n",
    "\n",
    "for file in tempfiles:\n",
    "    if all(x in file for x in [study_name, taxa_rank, transformation, unifrac_measure, 'class1', 'otus']):\n",
    "        class1_otu = os.path.join(tempfiles_path,file)\n",
    "    elif all(x in file for x in [study_name, taxa_rank, transformation, unifrac_measure, 'class1', 'distances']):\n",
    "        class1_distances = os.path.join(tempfiles_path,file)\n",
    "    elif all(x in file for x in [study_name, taxa_rank, transformation, unifrac_measure, 'class2', 'otus']):\n",
    "        class2_otu = os.path.join(tempfiles_path,file)\n",
    "    elif all(x in file for x in [study_name, taxa_rank, transformation, unifrac_measure, 'class2', 'distances']):\n",
    "        class2_distances = os.path.join(tempfiles_path,file)"
   ]
  },
  {
   "cell_type": "code",
   "execution_count": 4,
   "id": "57e97a15-ed6b-4738-b43a-c145a238a471",
   "metadata": {},
   "outputs": [
    {
     "ename": "FileNotFoundError",
     "evalue": "[Errno 2] No such file or directory: '/home/pedro/Desktop/Masters/4th Semester/Thesis/experiments/results/sokol/genus_clr_gunifrac/tempfiles'",
     "output_type": "error",
     "traceback": [
      "\u001b[0;31m---------------------------------------------------------------------------\u001b[0m",
      "\u001b[0;31mFileNotFoundError\u001b[0m                         Traceback (most recent call last)",
      "Input \u001b[0;32mIn [4]\u001b[0m, in \u001b[0;36m<cell line: 7>\u001b[0;34m()\u001b[0m\n\u001b[1;32m      4\u001b[0m unifrac_measure\u001b[38;5;241m=\u001b[39m\u001b[38;5;124m\"\u001b[39m\u001b[38;5;124mgunifrac\u001b[39m\u001b[38;5;124m\"\u001b[39m\n\u001b[1;32m      6\u001b[0m tempfiles_path \u001b[38;5;241m=\u001b[39m \u001b[38;5;124m'\u001b[39m\u001b[38;5;124m/home/pedro/Desktop/Masters/4th Semester/Thesis/experiments/results/sokol/genus_clr_gunifrac/tempfiles\u001b[39m\u001b[38;5;124m'\u001b[39m\n\u001b[0;32m----> 7\u001b[0m tempfiles \u001b[38;5;241m=\u001b[39m \u001b[43mos\u001b[49m\u001b[38;5;241;43m.\u001b[39;49m\u001b[43mlistdir\u001b[49m\u001b[43m(\u001b[49m\u001b[43mtempfiles_path\u001b[49m\u001b[43m)\u001b[49m\n\u001b[1;32m      9\u001b[0m \u001b[38;5;28;01mfor\u001b[39;00m file \u001b[38;5;129;01min\u001b[39;00m tempfiles:\n\u001b[1;32m     10\u001b[0m     \u001b[38;5;28;01mif\u001b[39;00m \u001b[38;5;28mall\u001b[39m(x \u001b[38;5;129;01min\u001b[39;00m file \u001b[38;5;28;01mfor\u001b[39;00m x \u001b[38;5;129;01min\u001b[39;00m [study_name, taxa_rank, transformation, unifrac_measure, \u001b[38;5;124m'\u001b[39m\u001b[38;5;124mclass1\u001b[39m\u001b[38;5;124m'\u001b[39m, \u001b[38;5;124m'\u001b[39m\u001b[38;5;124motus\u001b[39m\u001b[38;5;124m'\u001b[39m]):\n",
      "\u001b[0;31mFileNotFoundError\u001b[0m: [Errno 2] No such file or directory: '/home/pedro/Desktop/Masters/4th Semester/Thesis/experiments/results/sokol/genus_clr_gunifrac/tempfiles'"
     ]
    }
   ],
   "source": [
    "study_name=\"sokol\"\n",
    "taxa_rank=\"genus\"\n",
    "transformation=\"clr\"\n",
    "unifrac_measure=\"gunifrac\"\n",
    "\n",
    "tempfiles_path = '/home/pedro/Desktop/Masters/4th Semester/Thesis/experiments/results/sokol/genus_clr_gunifrac/tempfiles'\n",
    "tempfiles = os.listdir(tempfiles_path)\n",
    "\n",
    "for file in tempfiles:\n",
    "    if all(x in file for x in [study_name, taxa_rank, transformation, unifrac_measure, 'class1', 'otus']):\n",
    "        class1_otu = os.path.join(tempfiles_path,file)\n",
    "    elif all(x in file for x in [study_name, taxa_rank, transformation, unifrac_measure, 'class1', 'distances']):\n",
    "        class1_distances = os.path.join(tempfiles_path,file)\n",
    "    elif all(x in file for x in [study_name, taxa_rank, transformation, unifrac_measure, 'class2', 'otus']):\n",
    "        class2_otu = os.path.join(tempfiles_path,file)\n",
    "    elif all(x in file for x in [study_name, taxa_rank, transformation, unifrac_measure, 'class2', 'distances']):\n",
    "        class2_distances = os.path.join(tempfiles_path,file)"
   ]
  },
  {
   "cell_type": "code",
   "execution_count": 6,
   "id": "c8cf0a91-232b-4b79-a04a-bd4ced61e737",
   "metadata": {},
   "outputs": [],
   "source": [
    "study_name=\"claesson\"\n",
    "taxa_rank=\"genus\"\n",
    "transformation=\"Log10\"\n",
    "unifrac_measure=\"gunifrac\"\n",
    "\n",
    "tempfiles_path = '/home/pedro/Desktop/Masters/4th Semester/Thesis/experiments/results/claesson/genus_Log10_gunifrac/tempfiles'\n",
    "tempfiles = os.listdir(tempfiles_path)\n",
    "\n",
    "for file in tempfiles:\n",
    "    if all(x in file for x in [study_name, taxa_rank, transformation, unifrac_measure, 'class1', 'otus']):\n",
    "        class1_otu = os.path.join(tempfiles_path,file)\n",
    "    elif all(x in file for x in [study_name, taxa_rank, transformation, unifrac_measure, 'class1', 'distances']):\n",
    "        class1_distances = os.path.join(tempfiles_path,file)\n",
    "    elif all(x in file for x in [study_name, taxa_rank, transformation, unifrac_measure, 'class2', 'otus']):\n",
    "        class2_otu = os.path.join(tempfiles_path,file)\n",
    "    elif all(x in file for x in [study_name, taxa_rank, transformation, unifrac_measure, 'class2', 'distances']):\n",
    "        class2_distances = os.path.join(tempfiles_path,file)"
   ]
  },
  {
   "cell_type": "code",
   "execution_count": 158,
   "id": "efc4eb28-6680-48bc-b52b-af5e4577f0a1",
   "metadata": {},
   "outputs": [],
   "source": [
    "## KNN CLASS1 - EUCLIDEAN DISTANCE "
   ]
  },
  {
   "cell_type": "code",
   "execution_count": 79,
   "id": "265a3ad6-e2bd-4909-b0ef-a1bbbc57649a",
   "metadata": {},
   "outputs": [
    {
     "data": {
      "text/plain": [
       "[<matplotlib.lines.Line2D at 0x7f1c23f7b610>]"
      ]
     },
     "execution_count": 79,
     "metadata": {},
     "output_type": "execute_result"
    },
    {
     "data": {
      "image/png": "[encoded data removed]",
      "text/plain": [
       "<Figure size 432x288 with 1 Axes>"
      ]
     },
     "metadata": {
      "needs_background": "light"
     },
     "output_type": "display_data"
    }
   ],
   "source": [
    "df = pd.read_csv(class1_otu, index_col=[0])\n",
    "X = df.values\n",
    "nbrs = NearestNeighbors(metric='braycurtis')\n",
    "nbrs.fit(X)\n",
    "distances, indexes = nbrs.kneighbors(X)\n",
    "plt.plot(distances.mean(axis =1))"
   ]
  },
  {
   "cell_type": "code",
   "execution_count": 80,
   "id": "49b05e41-9284-4b33-81c2-efedc7dcf157",
   "metadata": {},
   "outputs": [
    {
     "name": "stdout",
     "output_type": "stream",
     "text": [
      "2\n"
     ]
    }
   ],
   "source": [
    "threshold = pd.Series(distances.mean(axis = 1)).quantile(0.85)\n",
    "outlier_index = np.where(distances.mean(axis = 1) > threshold)\n",
    "outlier_values = df.iloc[outlier_index]\n",
    "outlier_samples = outlier_values.index.values.tolist()\n",
    "print(len(outlier_samples))"
   ]
  },
  {
   "cell_type": "code",
   "execution_count": 176,
   "id": "19f70bfd-0949-42a5-92bd-5a7d79e56a72",
   "metadata": {},
   "outputs": [],
   "source": [
    "## KNN CLASS2 - EUCLIDEAN DISTANCE "
   ]
  },
  {
   "cell_type": "code",
   "execution_count": 81,
   "id": "ed8dd2bc-c2f7-4b95-988d-e9ea0e81c490",
   "metadata": {},
   "outputs": [
    {
     "data": {
      "text/plain": [
       "[<matplotlib.lines.Line2D at 0x7f1c23fe70d0>]"
      ]
     },
     "execution_count": 81,
     "metadata": {},
     "output_type": "execute_result"
    },
    {
     "data": {
      "image/png": "[encoded data removed]",
      "text/plain": [
       "<Figure size 432x288 with 1 Axes>"
      ]
     },
     "metadata": {
      "needs_background": "light"
     },
     "output_type": "display_data"
    }
   ],
   "source": [
    "df = pd.read_csv(class2_otu, index_col=[0])\n",
    "X = df.values\n",
    "nbrs = NearestNeighbors(metric='braycurtis')\n",
    "nbrs.fit(X)\n",
    "distances, indexes = nbrs.kneighbors(X)\n",
    "plt.plot(distances.mean(axis =1))"
   ]
  },
  {
   "cell_type": "code",
   "execution_count": 82,
   "id": "ddfb4e51-91d8-4fd3-894a-e26b9b4710c4",
   "metadata": {},
   "outputs": [
    {
     "name": "stdout",
     "output_type": "stream",
     "text": [
      "24\n"
     ]
    }
   ],
   "source": [
    "threshold = pd.Series(distances.mean(axis = 1)).quantile(0.85)\n",
    "outlier_index = np.where(distances.mean(axis = 1) > threshold)\n",
    "outlier_values = df.iloc[outlier_index]\n",
    "outlier_samples = outlier_values.index.values.tolist()\n",
    "print(len(outlier_samples))"
   ]
  },
  {
   "cell_type": "code",
   "execution_count": 180,
   "id": "e48c5844-8b0c-42fb-a23b-1da19e7012c3",
   "metadata": {},
   "outputs": [],
   "source": [
    "## KNN CLASS1 - UNIFRAC DISTANCE "
   ]
  },
  {
   "cell_type": "code",
   "execution_count": 55,
   "id": "616cfc54-df91-4761-b4a5-5141cfa7139e",
   "metadata": {},
   "outputs": [
    {
     "data": {
      "text/plain": [
       "[<matplotlib.lines.Line2D at 0x7fc91ce7ca90>]"
      ]
     },
     "execution_count": 55,
     "metadata": {},
     "output_type": "execute_result"
    },
    {
     "data": {
      "image/png": "[encoded data removed]",
      "text/plain": [
       "<Figure size 432x288 with 1 Axes>"
      ]
     },
     "metadata": {
      "needs_background": "light"
     },
     "output_type": "display_data"
    }
   ],
   "source": [
    "df_distances = pd.read_csv(class1_distances, index_col=[0])\n",
    "nbrs = NearestNeighbors(n_neighbors = 2, metric='precomputed')\n",
    "nbrs.fit(df_distances)\n",
    "distances, indexes = nbrs.kneighbors(df_distances)\n",
    "plt.plot(distances.mean(axis =1))"
   ]
  },
  {
   "cell_type": "code",
   "execution_count": 56,
   "id": "45240015-d74a-4e8d-bef1-9f0de1b41d5b",
   "metadata": {},
   "outputs": [
    {
     "name": "stdout",
     "output_type": "stream",
     "text": [
      "5\n"
     ]
    }
   ],
   "source": [
    "threshold = pd.Series(distances[:, 1]).quantile(0.85)\n",
    "outlier_index = np.where(distances[:, 1] > threshold)\n",
    "outlier_values = df.iloc[outlier_index]\n",
    "outlier_samples = outlier_values.index.values.tolist()\n",
    "print(len(outlier_samples))"
   ]
  },
  {
   "cell_type": "code",
   "execution_count": 15,
   "id": "d65e0b60-ac90-4d64-ab62-15f323d9f742",
   "metadata": {},
   "outputs": [],
   "source": [
    "## KNN CLASS2 - UNIFRAC DISTANCE"
   ]
  },
  {
   "cell_type": "code",
   "execution_count": 53,
   "id": "31f62abf-3424-4692-ad97-9df07cf48bb7",
   "metadata": {},
   "outputs": [
    {
     "data": {
      "text/plain": [
       "[<matplotlib.lines.Line2D at 0x7fc91cdf0a90>]"
      ]
     },
     "execution_count": 53,
     "metadata": {},
     "output_type": "execute_result"
    },
    {
     "data": {
      "image/png": "[encoded data removed]",
      "text/plain": [
       "<Figure size 432x288 with 1 Axes>"
      ]
     },
     "metadata": {
      "needs_background": "light"
     },
     "output_type": "display_data"
    }
   ],
   "source": [
    "df_distances = pd.read_csv(class2_distances, index_col=[0])\n",
    "nbrs = NearestNeighbors(n_neighbors = 2, metric='precomputed')\n",
    "nbrs.fit(df_distances)\n",
    "distances, indexes = nbrs.kneighbors(df_distances)\n",
    "plt.plot(distances.mean(axis =1))"
   ]
  },
  {
   "cell_type": "code",
   "execution_count": 54,
   "id": "3e2c8043-5029-47bf-b0ef-ab229dc18a4e",
   "metadata": {},
   "outputs": [
    {
     "name": "stdout",
     "output_type": "stream",
     "text": [
      "19\n"
     ]
    }
   ],
   "source": [
    "threshold = pd.Series(distances[:, 1]).quantile(0.85)\n",
    "outlier_index = np.where(distances[:, 1] > threshold)\n",
    "outlier_values = df.iloc[outlier_index]\n",
    "outlier_samples = outlier_values.index.values.tolist()\n",
    "print(len(outlier_samples))"
   ]
  },
  {
   "cell_type": "code",
   "execution_count": null,
   "id": "943ea5fc-6637-4f3e-b43d-4cec4648d771",
   "metadata": {},
   "outputs": [],
   "source": [
    "## ISOLATION FOREST CLASS 1"
   ]
  },
  {
   "cell_type": "code",
   "execution_count": 99,
   "id": "1bcc5d52-659b-4656-9b48-927d3a069240",
   "metadata": {},
   "outputs": [
    {
     "name": "stdout",
     "output_type": "stream",
     "text": [
      "2\n"
     ]
    },
    {
     "name": "stderr",
     "output_type": "stream",
     "text": [
      "/home/pedro/miniconda3/envs/thesis_ml/lib/python3.10/site-packages/sklearn/base.py:443: UserWarning: X has feature names, but IsolationForest was fitted without feature names\n",
      "  warnings.warn(\n"
     ]
    }
   ],
   "source": [
    "df = pd.read_csv(class1_otu, index_col=[0])\n",
    "model=IsolationForest(n_estimators=100,max_samples='auto', contamination=float(0.05), random_state=random_state)\n",
    "model.fit(df.values)\n",
    "df['anomaly_score'] = model.predict(df)\n",
    "outlier_samples = df[df['anomaly_score']==-1].index.values.tolist()\n",
    "print(len(outlier_samples))"
   ]
  },
  {
   "cell_type": "code",
   "execution_count": 21,
   "id": "fe400dac-e333-4469-a674-a2068c953af0",
   "metadata": {},
   "outputs": [],
   "source": [
    "## ISOLATION FOREST CLASS 2"
   ]
  },
  {
   "cell_type": "code",
   "execution_count": 101,
   "id": "93391cb2-1c7b-40d4-af05-b73edcab3251",
   "metadata": {},
   "outputs": [
    {
     "name": "stdout",
     "output_type": "stream",
     "text": [
      "7\n"
     ]
    }
   ],
   "source": [
    "df = pd.read_csv(class2_otu, index_col=[0])\n",
    "model=IsolationForest(n_estimators=100,max_samples='auto', contamination=float(0.05),random_state=random_state)\n",
    "df['anomaly_score'] = model.fit_predict(df.values)\n",
    "outlier_samples = df[df['anomaly_score']==-1].index.values.tolist()\n",
    "print(len(outlier_samples))"
   ]
  },
  {
   "cell_type": "code",
   "execution_count": null,
   "id": "e5df3fef-85a5-4e2c-b78b-a8b2dbb75613",
   "metadata": {},
   "outputs": [],
   "source": [
    "## DBSCAN CLASS 1"
   ]
  },
  {
   "cell_type": "code",
   "execution_count": 68,
   "id": "b9fdfb8c-b665-4934-9191-6756b5b7ed77",
   "metadata": {},
   "outputs": [
    {
     "name": "stdout",
     "output_type": "stream",
     "text": [
      "28\n"
     ]
    }
   ],
   "source": [
    "df_distances = pd.read_csv(class1_distances, index_col=[0])\n",
    "clustering = DBSCAN(eps=0.4, min_samples=2, metric='precomputed')\n",
    "clustering.fit(df_distances)\n",
    "df_distances['anomaly_score'] = clustering.labels_\n",
    "outlier_samples = df_distances[df_distances['anomaly_score']==-1].index.values.tolist()\n",
    "print(len(outlier_samples))"
   ]
  },
  {
   "cell_type": "code",
   "execution_count": null,
   "id": "7fdd46a2-acea-474a-8d3f-4f110e5f2756",
   "metadata": {},
   "outputs": [],
   "source": [
    "## DBSCAN CLASS 2"
   ]
  },
  {
   "cell_type": "code",
   "execution_count": 110,
   "id": "612e0589-9a2d-44fb-bb39-a8f6fd3251bf",
   "metadata": {},
   "outputs": [
    {
     "name": "stdout",
     "output_type": "stream",
     "text": [
      "122\n"
     ]
    }
   ],
   "source": [
    "df_distances = pd.read_csv(class2_distances, index_col=[0])\n",
    "clustering = DBSCAN(eps=0.2, min_samples=2)\n",
    "clustering.fit_predict(df_distances)\n",
    "df_distances['anomaly_score'] = clustering.labels_\n",
    "outlier_samples = df_distances[df_distances['anomaly_score']==-1].index.values.tolist()\n",
    "print(len(outlier_samples))"
   ]
  },
  {
   "cell_type": "code",
   "execution_count": 124,
   "id": "ca77c1d9-f1aa-4ff3-94cd-6c21a40b6ca3",
   "metadata": {},
   "outputs": [],
   "source": [
    "## HDBSCAN CLASS 1"
   ]
  },
  {
   "cell_type": "code",
   "execution_count": 25,
   "id": "2d1092b0-34f0-4c66-ba6f-fdb96419ab24",
   "metadata": {},
   "outputs": [
    {
     "name": "stdout",
     "output_type": "stream",
     "text": [
      "4\n"
     ]
    }
   ],
   "source": [
    "df_distances = pd.read_csv(class1_distances, index_col=[0])\n",
    "clusterer = hdbscan.HDBSCAN(metric='precomputed', min_cluster_size=2, alpha=0.4)\n",
    "clusterer.fit(df_distances)\n",
    "df_distances['anomaly_score'] = clusterer.labels_\n",
    "outlier_samples = df_distances[df_distances['anomaly_score']==-1].index.values.tolist()\n",
    "print(len(outlier_samples))"
   ]
  },
  {
   "cell_type": "code",
   "execution_count": 26,
   "id": "86cc051e-38d6-430c-b537-04654a3fa722",
   "metadata": {},
   "outputs": [],
   "source": [
    "## HDBSCAN CLASS 2"
   ]
  },
  {
   "cell_type": "code",
   "execution_count": 27,
   "id": "c6e96289-a4fc-4dd5-ad34-c21287d7c345",
   "metadata": {},
   "outputs": [
    {
     "name": "stdout",
     "output_type": "stream",
     "text": [
      "1\n"
     ]
    }
   ],
   "source": [
    "df_distances = pd.read_csv(class2_distances, index_col=[0])\n",
    "clusterer = hdbscan.HDBSCAN(metric='precomputed', min_cluster_size=2, alpha=0.4)\n",
    "clusterer.fit(df_distances)\n",
    "df_distances['anomaly_score'] = clusterer.labels_\n",
    "outlier_samples = df_distances[df_distances['anomaly_score']==-1].index.values.tolist()\n",
    "print(len(outlier_samples))"
   ]
  },
  {
   "cell_type": "code",
   "execution_count": null,
   "id": "6490ab6c-999e-49c8-8b6d-1ce8463fb108",
   "metadata": {},
   "outputs": [],
   "source": []
  },
  {
   "cell_type": "code",
   "execution_count": 219,
   "id": "5d62963a-17e0-43c7-b7f7-bfa1ad1bc379",
   "metadata": {},
   "outputs": [
    {
     "name": "stderr",
     "output_type": "stream",
     "text": [
      "/home/pedro/miniconda3/envs/thesis_ml/lib/python3.10/site-packages/seaborn/distributions.py:2619: FutureWarning: `distplot` is a deprecated function and will be removed in a future version. Please adapt your code to use either `displot` (a figure-level function with similar flexibility) or `histplot` (an axes-level function for histograms).\n",
      "  warnings.warn(msg, FutureWarning)\n",
      "/home/pedro/miniconda3/envs/thesis_ml/lib/python3.10/site-packages/seaborn/distributions.py:2103: FutureWarning: The `axis` variable is no longer used and will be removed. Instead, assign variables directly to `x` or `y`.\n",
      "  warnings.warn(msg, FutureWarning)\n"
     ]
    },
    {
     "data": {
      "text/plain": [
       "<AxesSubplot:ylabel='Density'>"
      ]
     },
     "execution_count": 219,
     "metadata": {},
     "output_type": "execute_result"
    },
    {
     "data": {
      "image/png": "[encoded data removed]",
      "text/plain": [
       "<Figure size 432x288 with 1 Axes>"
      ]
     },
     "metadata": {
      "needs_background": "light"
     },
     "output_type": "display_data"
    }
   ],
   "source": [
    "sns.distplot(clusterer.outlier_scores_[np.isfinite(clusterer.outlier_scores_)], rug=True)"
   ]
  },
  {
   "cell_type": "code",
   "execution_count": 57,
   "id": "c96ea379-00e4-4adb-8250-f73614c5df28",
   "metadata": {},
   "outputs": [],
   "source": [
    "threshold = pd.Series(clusterer.outlier_scores_).quantile(0.8)\n",
    "outliers = np.where(clusterer.outlier_scores_ > threshold)"
   ]
  },
  {
   "cell_type": "code",
   "execution_count": 58,
   "id": "c66bacdd-1533-412d-b76c-90676c7ac9bf",
   "metadata": {},
   "outputs": [
    {
     "data": {
      "text/plain": [
       "(array([ 12,  13,  14,  43,  51,  55,  57,  58,  60,  70,  75,  77,  83,\n",
       "         84,  86,  92,  95,  96,  98, 102, 103, 109, 111, 113, 121]),)"
      ]
     },
     "execution_count": 58,
     "metadata": {},
     "output_type": "execute_result"
    }
   ],
   "source": [
    "outliers"
   ]
  },
  {
   "cell_type": "code",
   "execution_count": 102,
   "id": "aa2c25ce-0960-4f28-88b9-d8352933b12b",
   "metadata": {},
   "outputs": [
    {
     "data": {
      "text/html": [
       "<style>#sk-container-id-2 {color: black;background-color: white;}#sk-container-id-2 pre{padding: 0;}#sk-container-id-2 div.sk-toggleable {background-color: white;}#sk-container-id-2 label.sk-toggleable__label {cursor: pointer;display: block;width: 100%;margin-bottom: 0;padding: 0.3em;box-sizing: border-box;text-align: center;}#sk-container-id-2 label.sk-toggleable__label-arrow:before {content: \"▸\";float: left;margin-right: 0.25em;color: #696969;}#sk-container-id-2 label.sk-toggleable__label-arrow:hover:before {color: black;}#sk-container-id-2 div.sk-estimator:hover label.sk-toggleable__label-arrow:before {color: black;}#sk-container-id-2 div.sk-toggleable__content {max-height: 0;max-width: 0;overflow: hidden;text-align: left;background-color: #f0f8ff;}#sk-container-id-2 div.sk-toggleable__content pre {margin: 0.2em;color: black;border-radius: 0.25em;background-color: #f0f8ff;}#sk-container-id-2 input.sk-toggleable__control:checked~div.sk-toggleable__content {max-height: 200px;max-width: 100%;overflow: auto;}#sk-container-id-2 input.sk-toggleable__control:checked~label.sk-toggleable__label-arrow:before {content: \"▾\";}#sk-container-id-2 div.sk-estimator input.sk-toggleable__control:checked~label.sk-toggleable__label {background-color: #d4ebff;}#sk-container-id-2 div.sk-label input.sk-toggleable__control:checked~label.sk-toggleable__label {background-color: #d4ebff;}#sk-container-id-2 input.sk-hidden--visually {border: 0;clip: rect(1px 1px 1px 1px);clip: rect(1px, 1px, 1px, 1px);height: 1px;margin: -1px;overflow: hidden;padding: 0;position: absolute;width: 1px;}#sk-container-id-2 div.sk-estimator {font-family: monospace;background-color: #f0f8ff;border: 1px dotted black;border-radius: 0.25em;box-sizing: border-box;margin-bottom: 0.5em;}#sk-container-id-2 div.sk-estimator:hover {background-color: #d4ebff;}#sk-container-id-2 div.sk-parallel-item::after {content: \"\";width: 100%;border-bottom: 1px solid gray;flex-grow: 1;}#sk-container-id-2 div.sk-label:hover label.sk-toggleable__label {background-color: #d4ebff;}#sk-container-id-2 div.sk-serial::before {content: \"\";position: absolute;border-left: 1px solid gray;box-sizing: border-box;top: 0;bottom: 0;left: 50%;z-index: 0;}#sk-container-id-2 div.sk-serial {display: flex;flex-direction: column;align-items: center;background-color: white;padding-right: 0.2em;padding-left: 0.2em;position: relative;}#sk-container-id-2 div.sk-item {position: relative;z-index: 1;}#sk-container-id-2 div.sk-parallel {display: flex;align-items: stretch;justify-content: center;background-color: white;position: relative;}#sk-container-id-2 div.sk-item::before, #sk-container-id-2 div.sk-parallel-item::before {content: \"\";position: absolute;border-left: 1px solid gray;box-sizing: border-box;top: 0;bottom: 0;left: 50%;z-index: -1;}#sk-container-id-2 div.sk-parallel-item {display: flex;flex-direction: column;z-index: 1;position: relative;background-color: white;}#sk-container-id-2 div.sk-parallel-item:first-child::after {align-self: flex-end;width: 50%;}#sk-container-id-2 div.sk-parallel-item:last-child::after {align-self: flex-start;width: 50%;}#sk-container-id-2 div.sk-parallel-item:only-child::after {width: 0;}#sk-container-id-2 div.sk-dashed-wrapped {border: 1px dashed gray;margin: 0 0.4em 0.5em 0.4em;box-sizing: border-box;padding-bottom: 0.4em;background-color: white;}#sk-container-id-2 div.sk-label label {font-family: monospace;font-weight: bold;display: inline-block;line-height: 1.2em;}#sk-container-id-2 div.sk-label-container {text-align: center;}#sk-container-id-2 div.sk-container {/* jupyter's `normalize.less` sets `[hidden] { display: none; }` but bootstrap.min.css set `[hidden] { display: none !important; }` so we also need the `!important` here to be able to override the default hidden behavior on the sphinx rendered scikit-learn.org. See: https://github.com/scikit-learn/scikit-learn/issues/21755 */display: inline-block !important;position: relative;}#sk-container-id-2 div.sk-text-repr-fallback {display: none;}</style><div id=\"sk-container-id-2\" class=\"sk-top-container\"><div class=\"sk-text-repr-fallback\"><pre>IsolationForest(contamination=0.05,\n",
       "                random_state=RandomState(MT19937) at 0x7FC9239E2840)</pre><b>In a Jupyter environment, please rerun this cell to show the HTML representation or trust the notebook. <br />On GitHub, the HTML representation is unable to render, please try loading this page with nbviewer.org.</b></div><div class=\"sk-container\" hidden><div class=\"sk-item\"><div class=\"sk-estimator sk-toggleable\"><input class=\"sk-toggleable__control sk-hidden--visually\" id=\"sk-estimator-id-2\" type=\"checkbox\" checked><label for=\"sk-estimator-id-2\" class=\"sk-toggleable__label sk-toggleable__label-arrow\">IsolationForest</label><div class=\"sk-toggleable__content\"><pre>IsolationForest(contamination=0.05,\n",
       "                random_state=RandomState(MT19937) at 0x7FC9239E2840)</pre></div></div></div></div></div>"
      ],
      "text/plain": [
       "IsolationForest(contamination=0.05,\n",
       "                random_state=RandomState(MT19937) at 0x7FC9239E2840)"
      ]
     },
     "execution_count": 102,
     "metadata": {},
     "output_type": "execute_result"
    }
   ],
   "source": [
    "model.random_state"
   ]
  },
  {
   "cell_type": "code",
   "execution_count": null,
   "id": "95bc5fb4-52d2-491c-af25-98423b208cfd",
   "metadata": {},
   "outputs": [],
   "source": [
    "df = pd.DataFrame(columns=['species','name','age'])"
   ]
  },
  {
   "cell_type": "code",
   "execution_count": 79,
   "id": "0d537844-c9bb-49cb-a106-1902afed0410",
   "metadata": {},
   "outputs": [],
   "source": [
    "df2 = pd.DataFrame(index=df.index)\n",
    "df2.insert(0, 'id', df.index)"
   ]
  },
  {
   "cell_type": "code",
   "execution_count": 80,
   "id": "a13f7f63-85f7-4612-b262-ff3fc184f47d",
   "metadata": {},
   "outputs": [
    {
     "data": {
      "text/html": [
       "<div>\n",
       "<style scoped>\n",
       "    .dataframe tbody tr th:only-of-type {\n",
       "        vertical-align: middle;\n",
       "    }\n",
       "\n",
       "    .dataframe tbody tr th {\n",
       "        vertical-align: top;\n",
       "    }\n",
       "\n",
       "    .dataframe thead th {\n",
       "        text-align: right;\n",
       "    }\n",
       "</style>\n",
       "<table border=\"1\" class=\"dataframe\">\n",
       "  <thead>\n",
       "    <tr style=\"text-align: right;\">\n",
       "      <th></th>\n",
       "      <th>id</th>\n",
       "    </tr>\n",
       "  </thead>\n",
       "  <tbody>\n",
       "    <tr>\n",
       "      <th>100015.518484</th>\n",
       "      <td>100015.518484</td>\n",
       "    </tr>\n",
       "    <tr>\n",
       "      <th>100222.518527</th>\n",
       "      <td>100222.518527</td>\n",
       "    </tr>\n",
       "    <tr>\n",
       "      <th>7130.518412</th>\n",
       "      <td>7130.518412</td>\n",
       "    </tr>\n",
       "    <tr>\n",
       "      <th>7200.518492</th>\n",
       "      <td>7200.518492</td>\n",
       "    </tr>\n",
       "    <tr>\n",
       "      <th>100226.518568</th>\n",
       "      <td>100226.518568</td>\n",
       "    </tr>\n",
       "    <tr>\n",
       "      <th>...</th>\n",
       "      <td>...</td>\n",
       "    </tr>\n",
       "    <tr>\n",
       "      <th>7454.518419</th>\n",
       "      <td>7454.518419</td>\n",
       "    </tr>\n",
       "    <tr>\n",
       "      <th>7352.518512</th>\n",
       "      <td>7352.518512</td>\n",
       "    </tr>\n",
       "    <tr>\n",
       "      <th>7242A.518519</th>\n",
       "      <td>7242A.518519</td>\n",
       "    </tr>\n",
       "    <tr>\n",
       "      <th>7646.518523</th>\n",
       "      <td>7646.518523</td>\n",
       "    </tr>\n",
       "    <tr>\n",
       "      <th>100139.518500</th>\n",
       "      <td>100139.518500</td>\n",
       "    </tr>\n",
       "  </tbody>\n",
       "</table>\n",
       "<p>122 rows × 1 columns</p>\n",
       "</div>"
      ],
      "text/plain": [
       "                          id\n",
       "100015.518484  100015.518484\n",
       "100222.518527  100222.518527\n",
       "7130.518412      7130.518412\n",
       "7200.518492      7200.518492\n",
       "100226.518568  100226.518568\n",
       "...                      ...\n",
       "7454.518419      7454.518419\n",
       "7352.518512      7352.518512\n",
       "7242A.518519    7242A.518519\n",
       "7646.518523      7646.518523\n",
       "100139.518500  100139.518500\n",
       "\n",
       "[122 rows x 1 columns]"
      ]
     },
     "execution_count": 80,
     "metadata": {},
     "output_type": "execute_result"
    }
   ],
   "source": [
    "df2"
   ]
  },
  {
   "cell_type": "code",
   "execution_count": 87,
   "id": "045b5072-6a61-4745-906b-6c9507d76f8d",
   "metadata": {},
   "outputs": [],
   "source": [
    "def set_anomaly_by_name(row, outlier_list):\n",
    "    if row.id in outlier_values:\n",
    "        return 'anomaly'\n",
    "    return 'notanomaly'"
   ]
  },
  {
   "cell_type": "code",
   "execution_count": 84,
   "id": "88a6b99f-9c22-45ca-984b-212900c15b7a",
   "metadata": {},
   "outputs": [],
   "source": [
    "df2['a1'] = df2.apply(set_anomaly, outlier_list=outlier_samples , axis=1)"
   ]
  },
  {
   "cell_type": "code",
   "execution_count": 104,
   "id": "6549ed32-63f6-43ce-9dd7-d3998217c9d3",
   "metadata": {},
   "outputs": [
    {
     "data": {
      "text/plain": [
       "100015.518484    1\n",
       "100222.518527    1\n",
       "7130.518412      1\n",
       "7200.518492      1\n",
       "100226.518568    1\n",
       "                ..\n",
       "7454.518419      1\n",
       "7352.518512      1\n",
       "7242A.518519     1\n",
       "7646.518523      1\n",
       "100139.518500    1\n",
       "Name: anomaly_score, Length: 122, dtype: int64"
      ]
     },
     "execution_count": 104,
     "metadata": {},
     "output_type": "execute_result"
    }
   ],
   "source": [
    "df.anomaly_score"
   ]
  },
  {
   "cell_type": "code",
   "execution_count": 88,
   "id": "a4b99133-cc95-455d-b39c-4934989a987f",
   "metadata": {},
   "outputs": [
    {
     "data": {
      "text/plain": [
       "[7298.518487,\n",
       " 7313.518451,\n",
       " 7356.518615,\n",
       " 7360.518446,\n",
       " 7361.518432,\n",
       " 7365.518636,\n",
       " 7385.518529,\n",
       " 7610.51859,\n",
       " 7662.518467,\n",
       " 7664.518599,\n",
       " 7844.518483,\n",
       " 7847.51841,\n",
       " 7848.518594,\n",
       " 7855.518447,\n",
       " 7858.518581,\n",
       " 7860.518628,\n",
       " 7861.518583,\n",
       " 7862.518458,\n",
       " 7870.518457,\n",
       " 7879.518469,\n",
       " 7899.51856,\n",
       " 7904.5186,\n",
       " 7906.518589,\n",
       " 7908.518449,\n",
       " 7909.518566,\n",
       " 7910.518536,\n",
       " 7911.51861,\n",
       " 7912.518472]"
      ]
     },
     "execution_count": 88,
     "metadata": {},
     "output_type": "execute_result"
    }
   ],
   "source": [
    "outlier_samples"
   ]
  },
  {
   "cell_type": "code",
   "execution_count": 89,
   "id": "16f1f3dd-41c3-41e9-9fec-4e332e11875c",
   "metadata": {},
   "outputs": [
    {
     "data": {
      "text/plain": [
       "'results/sokol/tempfiles/sokol_species_counts_unifrac_class1_distances.csv'"
      ]
     },
     "execution_count": 89,
     "metadata": {},
     "output_type": "execute_result"
    }
   ],
   "source": [
    "class1_distances"
   ]
  },
  {
   "cell_type": "code",
   "execution_count": 91,
   "id": "530a8ebc-948c-4e02-bac4-0575ef6c54dd",
   "metadata": {},
   "outputs": [
    {
     "data": {
      "text/plain": [
       "'sokol_species_counts_unifrac_class1_distances.csv'"
      ]
     },
     "execution_count": 91,
     "metadata": {},
     "output_type": "execute_result"
    }
   ],
   "source": [
    "class1_distances.split('/')[-1]"
   ]
  },
  {
   "cell_type": "code",
   "execution_count": 105,
   "id": "01db2dff-ee2c-4100-9471-5ee085bff5e8",
   "metadata": {},
   "outputs": [
    {
     "data": {
      "text/plain": [
       "'knn_species_counts'"
      ]
     },
     "execution_count": 105,
     "metadata": {},
     "output_type": "execute_result"
    }
   ],
   "source": [
    "'knn_' + '_'.join(class1_distances.split('/')[-1].split('_')[1:3])"
   ]
  },
  {
   "cell_type": "code",
   "execution_count": null,
   "id": "0bc45d80-37fd-4a53-b8d5-7556a0c326d1",
   "metadata": {},
   "outputs": [],
   "source": []
  }
 ],
 "metadata": {
  "kernelspec": {
   "display_name": "Python 3 (ipykernel)",
   "language": "python",
   "name": "python3"
  },
  "language_info": {
   "codemirror_mode": {
    "name": "ipython",
    "version": 3
   },
   "file_extension": ".py",
   "mimetype": "text/x-python",
   "name": "python",
   "nbconvert_exporter": "python",
   "pygments_lexer": "ipython3",
   "version": "3.10.5"
  }
 },
 "nbformat": 4,
 "nbformat_minor": 5
}
