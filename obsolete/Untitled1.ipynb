{
 "cells": [
  {
   "cell_type": "code",
   "execution_count": 1,
   "id": "b9a051de-1a9f-4a5d-9ed4-9d1912a5236a",
   "metadata": {},
   "outputs": [],
   "source": [
    "import os\n",
    "import random\n",
    "import pandas as pd\n",
    "import numpy as np\n",
    "from numpy import quantile, where, random\n",
    "from sklearn.neighbors import NearestNeighbors, LocalOutlierFactor\n",
    "from sklearn.cluster import DBSCAN, OPTICS\n",
    "from sklearn.ensemble import IsolationForest\n",
    "import hdbscan\n",
    "pd.set_option('display.max_rows', None)"
   ]
  },
  {
   "cell_type": "code",
   "execution_count": 2,
   "id": "8e39046c-e874-4a76-9d6a-f87fd5720fd9",
   "metadata": {},
   "outputs": [],
   "source": [
    "## SET RANDOM STATE\n",
    "random.seed(39)\n",
    "distance_metric = 'braycurtis'\n",
    "outlier_value = 0.15"
   ]
  },
  {
   "cell_type": "code",
   "execution_count": 3,
   "id": "52245efc-cd0f-44b8-9357-78de152b9a54",
   "metadata": {},
   "outputs": [],
   "source": [
    "def set_initial_results_dataframe(csv_file_path):\n",
    "\n",
    "    temp_df = pd.read_csv(csv_file_path, index_col=[0])\n",
    "    results_df = pd.DataFrame(index=temp_df.index)\n",
    "    results_df.insert(0, 'id', temp_df.index)\n",
    "\n",
    "    return results_df\n",
    "\n",
    "def set_anomaly_by_id(row, outlier_list):\n",
    "    if row.id in outlier_list:\n",
    "        return 'anomaly'\n",
    "    return 'notanomaly'\n",
    "\n",
    "def set_anomaly_by_score(row):\n",
    "    if row['anomaly_score'] == -1:\n",
    "        return 'anomaly'\n",
    "    return 'notanomaly'"
   ]
  },
  {
   "cell_type": "code",
   "execution_count": 4,
   "id": "7ae5df95-28f4-4fdd-80c7-015c51379133",
   "metadata": {},
   "outputs": [],
   "source": [
    "# n_neighbors = default\n",
    "# default distance metric = braycurtis\n",
    "# outlier_value = 0.15\n",
    "def run_LOF(csv_file_path, results_df, distance=distance_metric):\n",
    "\n",
    "    temp_df = pd.read_csv(csv_file_path, index_col=[0])\n",
    "    diststr = distance if distance == 'braycurtis' else 'precomputed'\n",
    "\n",
    "    model = LocalOutlierFactor(metric=diststr, contamination=outlier_value, n_neighbors=len(temp_df))\n",
    "    temp_df['anomaly_score'] = model.fit_predict(temp_df.values)\n",
    "    temp_df['anomaly_score2'] = temp_df.apply(set_anomaly_by_score, axis=1)\n",
    "\n",
    "    column_name = 'LOF_' + '_'.join(csv_file_path.split('/')[-1].split('_')[1:3]) + f'_{distance}'\n",
    "    results_df[column_name] = temp_df['anomaly_score2']\n",
    "\n",
    "    return results_df"
   ]
  },
  {
   "cell_type": "code",
   "execution_count": 5,
   "id": "8b6121fb-c478-4701-8ac4-9b4edfa47262",
   "metadata": {},
   "outputs": [],
   "source": [
    "# n_neighbors = default\n",
    "# default distance metric = braycurtis\n",
    "# outlier_value = 0.15\n",
    "def run_KNN(csv_file_path, results_df, distance=distance_metric):\n",
    "\n",
    "    temp_df = pd.read_csv(csv_file_path, index_col=[0])\n",
    "    diststr = distance if distance == 'braycurtis' else 'precomputed'\n",
    "\n",
    "    model = NearestNeighbors(metric=diststr)\n",
    "    model.fit(temp_df.values)\n",
    "    distances, indexes = model.kneighbors(temp_df.values)\n",
    "\n",
    "    threshold = pd.Series(distances.mean(axis = 1)).quantile(1 - outlier_value)\n",
    "    outlier_index = np.where(distances.mean(axis = 1) > threshold)\n",
    "    outlier_values = temp_df.iloc[outlier_index]\n",
    "    outlier_samples = outlier_values.index.values.tolist()\n",
    "\n",
    "    column_name = 'KNN_' + '_'.join(csv_file_path.split('/')[-1].split('_')[1:3]) + f'_{distance}'\n",
    "    results_df[column_name] = results_df.apply(set_anomaly_by_id, outlier_list=outlier_samples , axis=1)\n",
    "\n",
    "    return results_df"
   ]
  },
  {
   "cell_type": "code",
   "execution_count": 232,
   "id": "3d53dab4-e981-4322-805d-8422cb5f2662",
   "metadata": {},
   "outputs": [],
   "source": [
    "# default distance metric = braycurtis\n",
    "def run_OPTICS(csv_file_path, results_df, distance=distance_metric):\n",
    "\n",
    "    temp_df = pd.read_csv(csv_file_path, index_col=[0])\n",
    "    diststr = distance if distance == 'braycurtis' else 'precomputed'\n",
    "\n",
    "    model = OPTICS(metric=diststr)\n",
    "    model.fit(temp_df.values)\n",
    "    \n",
    "    scores = model.core_distances_\n",
    "    threshold = quantile(scores, 1-outlier_value)\n",
    "    outlier_index = where(scores >= threshold)\n",
    "    outlier_values = temp_df.iloc[outlier_index]\n",
    "    outlier_samples = outlier_values.index.values.tolist()\n",
    "\n",
    "    column_name = 'OPTICS_' + '_'.join(csv_file_path.split('/')[-1].split('_')[1:3]) + f'_{distance}'\n",
    "    results_df[column_name] = results_df.apply(set_anomaly_by_id, outlier_list=outlier_samples , axis=1)\n",
    "\n",
    "    return results_df"
   ]
  },
  {
   "cell_type": "code",
   "execution_count": 233,
   "id": "1bab316a-1e71-45a5-89b8-8206ece2b87d",
   "metadata": {},
   "outputs": [],
   "source": [
    "# cluster_selection_method = leaf\n",
    "# default distance metric = braycurtis\n",
    "def run_HDBScan(csv_file_path, results_df, distance=distance_metric):\n",
    "\n",
    "    temp_df = pd.read_csv(csv_file_path, index_col=[0])\n",
    "    diststr = distance if distance == 'braycurtis' else 'precomputed'\n",
    "\n",
    "    model = hdbscan.HDBSCAN(metric=diststr, cluster_selection_method='leaf', allow_single_cluster=True)\n",
    "    model.fit(temp_df.values)\n",
    "    \n",
    "    threshold = pd.Series(model.outlier_scores_).quantile(1-outlier_value)\n",
    "    outliers = np.where(model.outlier_scores_ > threshold)[0]\n",
    "    outlier_values = temp_df.iloc[outliers]\n",
    "    outlier_samples = outlier_values.index.values.tolist()\n",
    "\n",
    "    column_name = 'HDBSCAN_' + '_'.join(csv_file_path.split('/')[-1].split('_')[1:3]) + f'_{distance}'\n",
    "    results_df[column_name] = results_df.apply(set_anomaly_by_id, outlier_list=outlier_samples , axis=1)\n",
    "\n",
    "    return results_df"
   ]
  },
  {
   "cell_type": "code",
   "execution_count": 151,
   "id": "9ae7a46b-9cb8-40d9-acc3-3c87c9058915",
   "metadata": {},
   "outputs": [],
   "source": [
    "# number estimators = 200\n",
    "# max samples = auto\n",
    "def run_IsolationForest(csv_file_path, results_df):\n",
    "\n",
    "    temp_df = pd.read_csv(csv_file_path, index_col=[0])\n",
    "    model = IsolationForest(n_estimators=200, contamination=outlier_value)\n",
    "    temp_df['anomaly_score'] = model.fit_predict(temp_df.values)\n",
    "    temp_df['anomaly_score2'] = temp_df.apply(set_anomaly_by_score, axis=1)\n",
    "\n",
    "    column_name = 'ISOLATIONF_' + '_'.join(csv_file_path.split('/')[-1].split('_')[1:3])\n",
    "    results_df[column_name] = temp_df['anomaly_score2']\n",
    "\n",
    "    return results_df"
   ]
  },
  {
   "cell_type": "code",
   "execution_count": 234,
   "id": "2a119291-f79a-4053-acaa-1daddb146bec",
   "metadata": {},
   "outputs": [],
   "source": [
    "study_name=\"turnbaugh\"\n",
    "taxa_rank=\"genus\"\n",
    "transformation=\"clr\"\n",
    "distance_measure=\"gunifrac\"\n",
    "\n",
    "tempfiles_path = '/home/pedro/Desktop/Masters/4th Semester/Thesis/experiments/results/turnbaugh/genus_clr_gunifrac/tempfiles'\n",
    "tempfiles = os.listdir(tempfiles_path)\n",
    "\n",
    "for file in tempfiles:\n",
    "    if all(x in file for x in [study_name, taxa_rank, transformation, unifrac_measure, 'class1', 'otus']):\n",
    "        class1_otu = os.path.join(tempfiles_path,file)\n",
    "    elif all(x in file for x in [study_name, taxa_rank, transformation, unifrac_measure, 'class1', 'distances']):\n",
    "        class1_distances = os.path.join(tempfiles_path,file)\n",
    "    elif all(x in file for x in [study_name, taxa_rank, transformation, unifrac_measure, 'class2', 'otus']):\n",
    "        class2_otu = os.path.join(tempfiles_path,file)\n",
    "    elif all(x in file for x in [study_name, taxa_rank, transformation, unifrac_measure, 'class2', 'distances']):\n",
    "        class2_distances = os.path.join(tempfiles_path,file)"
   ]
  },
  {
   "cell_type": "code",
   "execution_count": 6,
   "id": "8ee2ba5a-25b4-42a8-9f29-3dfecbb31d4c",
   "metadata": {},
   "outputs": [],
   "source": [
    "study_name=\"claesson\"\n",
    "taxa_rank=\"genus\"\n",
    "transformation=\"Log10\"\n",
    "unifrac_measure=\"gunifrac\"\n",
    "\n",
    "tempfiles_path = '/home/pedro/Desktop/Masters/4th Semester/Thesis/experiments/results/claesson/genus_Log10_gunifrac/tempfiles'\n",
    "tempfiles = os.listdir(tempfiles_path)\n",
    "\n",
    "for file in tempfiles:\n",
    "    if all(x in file for x in [study_name, taxa_rank, transformation, unifrac_measure, 'class1', 'otus']):\n",
    "        class1_otu = os.path.join(tempfiles_path,file)\n",
    "    elif all(x in file for x in [study_name, taxa_rank, transformation, unifrac_measure, 'class1', 'distances']):\n",
    "        class1_distances = os.path.join(tempfiles_path,file)\n",
    "    elif all(x in file for x in [study_name, taxa_rank, transformation, unifrac_measure, 'class2', 'otus']):\n",
    "        class2_otu = os.path.join(tempfiles_path,file)\n",
    "    elif all(x in file for x in [study_name, taxa_rank, transformation, unifrac_measure, 'class2', 'distances']):\n",
    "        class2_distances = os.path.join(tempfiles_path,file)"
   ]
  },
  {
   "cell_type": "code",
   "execution_count": 178,
   "id": "fd4692d2-dac5-4cc1-a66d-b1bd375a4c29",
   "metadata": {},
   "outputs": [],
   "source": [
    "study_name=\"sokol\"\n",
    "taxa_rank=\"genus\"\n",
    "transformation=\"clr\"\n",
    "distance_measure=\"va-wunifrac\"\n",
    "\n",
    "tempfiles_path = '/home/pedro/Desktop/Masters/4th Semester/Thesis/experiments/results/sokol/genus_clr_va-wunifrac/tempfiles'\n",
    "tempfiles = os.listdir(tempfiles_path)\n",
    "\n",
    "for file in tempfiles:\n",
    "    if all(x in file for x in [study_name, taxa_rank, transformation, unifrac_measure, 'class1', 'otus']):\n",
    "        class1_otu = os.path.join(tempfiles_path,file)\n",
    "    elif all(x in file for x in [study_name, taxa_rank, transformation, unifrac_measure, 'class1', 'distances']):\n",
    "        class1_distances = os.path.join(tempfiles_path,file)\n",
    "    elif all(x in file for x in [study_name, taxa_rank, transformation, unifrac_measure, 'class2', 'otus']):\n",
    "        class2_otu = os.path.join(tempfiles_path,file)\n",
    "    elif all(x in file for x in [study_name, taxa_rank, transformation, unifrac_measure, 'class2', 'distances']):\n",
    "        class2_distances = os.path.join(tempfiles_path,file)"
   ]
  },
  {
   "cell_type": "code",
   "execution_count": 7,
   "id": "6a74ecff-b592-4ff4-a52d-fc3142605477",
   "metadata": {},
   "outputs": [],
   "source": [
    "class1_df_results = set_initial_results_dataframe(class1_otu)\n",
    "class2_df_results = set_initial_results_dataframe(class2_otu)"
   ]
  },
  {
   "cell_type": "code",
   "execution_count": 241,
   "id": "c55554a9-02d4-4bac-9790-b4ab19c0ad45",
   "metadata": {},
   "outputs": [
    {
     "name": "stdout",
     "output_type": "stream",
     "text": [
      "RUNNING LOCAL OUTLIER FACTOR MODEL ON CLASSES 1 AND 2\n"
     ]
    }
   ],
   "source": [
    "# LOF\n",
    "print('RUNNING LOCAL OUTLIER FACTOR MODEL ON CLASSES 1 AND 2')\n",
    "class1_df_results = run_LOF(class1_otu, class1_df_results)\n",
    "class1_df_results = run_LOF(class1_distances, class1_df_results, distance=distance_measure)\n",
    "class2_df_results = run_LOF(class2_otu, class2_df_results)\n",
    "class2_df_results = run_LOF(class2_distances, class2_df_results, distance=distance_measure)"
   ]
  },
  {
   "cell_type": "code",
   "execution_count": 242,
   "id": "c198eae1-b487-4a08-a38d-a9617f19d503",
   "metadata": {},
   "outputs": [
    {
     "name": "stdout",
     "output_type": "stream",
     "text": [
      "RUNNING K-NEAREST NEIGHBORS MODEL ON CLASSES 1 AND 2\n"
     ]
    }
   ],
   "source": [
    "# KNN\n",
    "print('RUNNING K-NEAREST NEIGHBORS MODEL ON CLASSES 1 AND 2')\n",
    "class1_df_results = run_KNN(class1_otu, class1_df_results)\n",
    "class1_df_results = run_KNN(class1_distances, class1_df_results, distance=distance_measure)\n",
    "class2_df_results = run_KNN(class2_otu, class2_df_results)\n",
    "class2_df_results = run_KNN(class2_distances, class2_df_results, distance=distance_measure)"
   ]
  },
  {
   "cell_type": "code",
   "execution_count": 243,
   "id": "b3f109e0-790f-4c15-975b-017b948a2e9f",
   "metadata": {},
   "outputs": [
    {
     "name": "stdout",
     "output_type": "stream",
     "text": [
      "RUNNING OPTICS MODEL ON CLASSES 1 AND 2\n"
     ]
    }
   ],
   "source": [
    "# OPTICS\n",
    "print('RUNNING OPTICS MODEL ON CLASSES 1 AND 2')\n",
    "class1_df_results = run_OPTICS(class1_otu, class1_df_results)\n",
    "class1_df_results = run_OPTICS(class1_distances, class1_df_results, distance=distance_measure)\n",
    "class2_df_results = run_OPTICS(class2_otu, class2_df_results)\n",
    "class2_df_results = run_OPTICS(class2_distances, class2_df_results, distance=distance_measure)"
   ]
  },
  {
   "cell_type": "code",
   "execution_count": 244,
   "id": "a6ae39bb-9970-4f01-a3e2-44dda40893f0",
   "metadata": {},
   "outputs": [
    {
     "name": "stdout",
     "output_type": "stream",
     "text": [
      "RUNNING HDBSCAN MODEL ON CLASS 1 AND 2\n"
     ]
    }
   ],
   "source": [
    "# HDBSCAN\n",
    "print('RUNNING HDBSCAN MODEL ON CLASS 1 AND 2')\n",
    "class1_df_results = run_HDBScan(class1_otu, class1_df_results)\n",
    "class1_df_results = run_HDBScan(class1_distances, class1_df_results, distance=distance_measure)\n",
    "class2_df_results = run_HDBScan(class2_otu, class2_df_results)\n",
    "class2_df_results = run_HDBScan(class2_distances, class2_df_results, distance=distance_measure)"
   ]
  },
  {
   "cell_type": "code",
   "execution_count": 245,
   "id": "6c7f4184-bc16-4de2-841d-0a67a1e1d1d1",
   "metadata": {},
   "outputs": [
    {
     "name": "stdout",
     "output_type": "stream",
     "text": [
      "RUNNING ISOLATION FOREST MODEL ON CLASS 1 AND 2\n"
     ]
    }
   ],
   "source": [
    "# Isolation Forest\n",
    "print('RUNNING ISOLATION FOREST MODEL ON CLASS 1 AND 2')\n",
    "class1_df_results = run_IsolationForest(class1_otu, class1_df_results)\n",
    "class2_df_results = run_IsolationForest(class2_otu, class2_df_results)"
   ]
  },
  {
   "cell_type": "code",
   "execution_count": 247,
   "id": "89ff217d-2b6b-4a82-baac-5fbde3c86b64",
   "metadata": {},
   "outputs": [
    {
     "data": {
      "text/html": [
       "<div>\n",
       "<style scoped>\n",
       "    .dataframe tbody tr th:only-of-type {\n",
       "        vertical-align: middle;\n",
       "    }\n",
       "\n",
       "    .dataframe tbody tr th {\n",
       "        vertical-align: top;\n",
       "    }\n",
       "\n",
       "    .dataframe thead th {\n",
       "        text-align: right;\n",
       "    }\n",
       "</style>\n",
       "<table border=\"1\" class=\"dataframe\">\n",
       "  <thead>\n",
       "    <tr style=\"text-align: right;\">\n",
       "      <th></th>\n",
       "      <th>id</th>\n",
       "      <th>LOF_genus_relative_braycurtis</th>\n",
       "      <th>LOF_genus_relative_gunifrac</th>\n",
       "      <th>KNN_genus_relative_braycurtis</th>\n",
       "      <th>KNN_genus_relative_gunifrac</th>\n",
       "      <th>OPTICS_genus_relative_braycurtis</th>\n",
       "      <th>OPTICS_genus_relative_gunifrac</th>\n",
       "      <th>HDBSCAN_genus_relative_braycurtis</th>\n",
       "      <th>HDBSCAN_genus_relative_gunifrac</th>\n",
       "      <th>ISOLATIONF_genus_relative</th>\n",
       "    </tr>\n",
       "  </thead>\n",
       "  <tbody>\n",
       "    <tr>\n",
       "      <th>EMC04.441704</th>\n",
       "      <td>EMC04.441704</td>\n",
       "      <td>notanomaly</td>\n",
       "      <td>notanomaly</td>\n",
       "      <td>notanomaly</td>\n",
       "      <td>notanomaly</td>\n",
       "      <td>notanomaly</td>\n",
       "      <td>notanomaly</td>\n",
       "      <td>notanomaly</td>\n",
       "      <td>notanomaly</td>\n",
       "      <td>notanomaly</td>\n",
       "    </tr>\n",
       "    <tr>\n",
       "      <th>EMC01.441661</th>\n",
       "      <td>EMC01.441661</td>\n",
       "      <td>notanomaly</td>\n",
       "      <td>anomaly</td>\n",
       "      <td>notanomaly</td>\n",
       "      <td>notanomaly</td>\n",
       "      <td>notanomaly</td>\n",
       "      <td>notanomaly</td>\n",
       "      <td>notanomaly</td>\n",
       "      <td>notanomaly</td>\n",
       "      <td>notanomaly</td>\n",
       "    </tr>\n",
       "    <tr>\n",
       "      <th>EMC09.441635</th>\n",
       "      <td>EMC09.441635</td>\n",
       "      <td>anomaly</td>\n",
       "      <td>anomaly</td>\n",
       "      <td>notanomaly</td>\n",
       "      <td>notanomaly</td>\n",
       "      <td>notanomaly</td>\n",
       "      <td>notanomaly</td>\n",
       "      <td>notanomaly</td>\n",
       "      <td>notanomaly</td>\n",
       "      <td>notanomaly</td>\n",
       "    </tr>\n",
       "    <tr>\n",
       "      <th>EMC05.441628</th>\n",
       "      <td>EMC05.441628</td>\n",
       "      <td>anomaly</td>\n",
       "      <td>notanomaly</td>\n",
       "      <td>notanomaly</td>\n",
       "      <td>anomaly</td>\n",
       "      <td>notanomaly</td>\n",
       "      <td>anomaly</td>\n",
       "      <td>notanomaly</td>\n",
       "      <td>anomaly</td>\n",
       "      <td>notanomaly</td>\n",
       "    </tr>\n",
       "    <tr>\n",
       "      <th>EMC07.441636</th>\n",
       "      <td>EMC07.441636</td>\n",
       "      <td>notanomaly</td>\n",
       "      <td>notanomaly</td>\n",
       "      <td>notanomaly</td>\n",
       "      <td>notanomaly</td>\n",
       "      <td>notanomaly</td>\n",
       "      <td>notanomaly</td>\n",
       "      <td>notanomaly</td>\n",
       "      <td>notanomaly</td>\n",
       "      <td>anomaly</td>\n",
       "    </tr>\n",
       "    <tr>\n",
       "      <th>EMC06.441610</th>\n",
       "      <td>EMC06.441610</td>\n",
       "      <td>notanomaly</td>\n",
       "      <td>notanomaly</td>\n",
       "      <td>notanomaly</td>\n",
       "      <td>notanomaly</td>\n",
       "      <td>notanomaly</td>\n",
       "      <td>notanomaly</td>\n",
       "      <td>notanomaly</td>\n",
       "      <td>notanomaly</td>\n",
       "      <td>notanomaly</td>\n",
       "    </tr>\n",
       "    <tr>\n",
       "      <th>EMC08.441752</th>\n",
       "      <td>EMC08.441752</td>\n",
       "      <td>notanomaly</td>\n",
       "      <td>notanomaly</td>\n",
       "      <td>anomaly</td>\n",
       "      <td>notanomaly</td>\n",
       "      <td>anomaly</td>\n",
       "      <td>notanomaly</td>\n",
       "      <td>anomaly</td>\n",
       "      <td>notanomaly</td>\n",
       "      <td>notanomaly</td>\n",
       "    </tr>\n",
       "    <tr>\n",
       "      <th>EMC03.441713</th>\n",
       "      <td>EMC03.441713</td>\n",
       "      <td>notanomaly</td>\n",
       "      <td>notanomaly</td>\n",
       "      <td>anomaly</td>\n",
       "      <td>anomaly</td>\n",
       "      <td>anomaly</td>\n",
       "      <td>anomaly</td>\n",
       "      <td>anomaly</td>\n",
       "      <td>anomaly</td>\n",
       "      <td>anomaly</td>\n",
       "    </tr>\n",
       "    <tr>\n",
       "      <th>EMC02.441750</th>\n",
       "      <td>EMC02.441750</td>\n",
       "      <td>notanomaly</td>\n",
       "      <td>notanomaly</td>\n",
       "      <td>notanomaly</td>\n",
       "      <td>notanomaly</td>\n",
       "      <td>notanomaly</td>\n",
       "      <td>notanomaly</td>\n",
       "      <td>notanomaly</td>\n",
       "      <td>notanomaly</td>\n",
       "      <td>notanomaly</td>\n",
       "    </tr>\n",
       "  </tbody>\n",
       "</table>\n",
       "</div>"
      ],
      "text/plain": [
       "                        id LOF_genus_relative_braycurtis  \\\n",
       "EMC04.441704  EMC04.441704                    notanomaly   \n",
       "EMC01.441661  EMC01.441661                    notanomaly   \n",
       "EMC09.441635  EMC09.441635                       anomaly   \n",
       "EMC05.441628  EMC05.441628                       anomaly   \n",
       "EMC07.441636  EMC07.441636                    notanomaly   \n",
       "EMC06.441610  EMC06.441610                    notanomaly   \n",
       "EMC08.441752  EMC08.441752                    notanomaly   \n",
       "EMC03.441713  EMC03.441713                    notanomaly   \n",
       "EMC02.441750  EMC02.441750                    notanomaly   \n",
       "\n",
       "             LOF_genus_relative_gunifrac KNN_genus_relative_braycurtis  \\\n",
       "EMC04.441704                  notanomaly                    notanomaly   \n",
       "EMC01.441661                     anomaly                    notanomaly   \n",
       "EMC09.441635                     anomaly                    notanomaly   \n",
       "EMC05.441628                  notanomaly                    notanomaly   \n",
       "EMC07.441636                  notanomaly                    notanomaly   \n",
       "EMC06.441610                  notanomaly                    notanomaly   \n",
       "EMC08.441752                  notanomaly                       anomaly   \n",
       "EMC03.441713                  notanomaly                       anomaly   \n",
       "EMC02.441750                  notanomaly                    notanomaly   \n",
       "\n",
       "             KNN_genus_relative_gunifrac OPTICS_genus_relative_braycurtis  \\\n",
       "EMC04.441704                  notanomaly                       notanomaly   \n",
       "EMC01.441661                  notanomaly                       notanomaly   \n",
       "EMC09.441635                  notanomaly                       notanomaly   \n",
       "EMC05.441628                     anomaly                       notanomaly   \n",
       "EMC07.441636                  notanomaly                       notanomaly   \n",
       "EMC06.441610                  notanomaly                       notanomaly   \n",
       "EMC08.441752                  notanomaly                          anomaly   \n",
       "EMC03.441713                     anomaly                          anomaly   \n",
       "EMC02.441750                  notanomaly                       notanomaly   \n",
       "\n",
       "             OPTICS_genus_relative_gunifrac HDBSCAN_genus_relative_braycurtis  \\\n",
       "EMC04.441704                     notanomaly                        notanomaly   \n",
       "EMC01.441661                     notanomaly                        notanomaly   \n",
       "EMC09.441635                     notanomaly                        notanomaly   \n",
       "EMC05.441628                        anomaly                        notanomaly   \n",
       "EMC07.441636                     notanomaly                        notanomaly   \n",
       "EMC06.441610                     notanomaly                        notanomaly   \n",
       "EMC08.441752                     notanomaly                           anomaly   \n",
       "EMC03.441713                        anomaly                           anomaly   \n",
       "EMC02.441750                     notanomaly                        notanomaly   \n",
       "\n",
       "             HDBSCAN_genus_relative_gunifrac ISOLATIONF_genus_relative  \n",
       "EMC04.441704                      notanomaly                notanomaly  \n",
       "EMC01.441661                      notanomaly                notanomaly  \n",
       "EMC09.441635                      notanomaly                notanomaly  \n",
       "EMC05.441628                         anomaly                notanomaly  \n",
       "EMC07.441636                      notanomaly                   anomaly  \n",
       "EMC06.441610                      notanomaly                notanomaly  \n",
       "EMC08.441752                      notanomaly                notanomaly  \n",
       "EMC03.441713                         anomaly                   anomaly  \n",
       "EMC02.441750                      notanomaly                notanomaly  "
      ]
     },
     "execution_count": 247,
     "metadata": {},
     "output_type": "execute_result"
    }
   ],
   "source": [
    "class1_df_results"
   ]
  },
  {
   "cell_type": "code",
   "execution_count": 12,
   "id": "ceeff624-6694-4b58-a5d9-bfdefad44d7d",
   "metadata": {},
   "outputs": [
    {
     "data": {
      "text/plain": [
       "array([0, 0, 0, 0, 0, 0, 0, 0, 0, 0, 0, 0, 0, 0, 0, 0, 0, 0, 0, 0, 0, 0,\n",
       "       0, 0, 0, 0, 0, 0, 0, 0, 0, 0, 0, 0, 0, 0, 0, 0, 0, 0, 0, 0, 0, 0,\n",
       "       0, 0, 0, 0, 0, 0, 0, 0, 0, 0, 0, 0, 0, 0, 0, 0, 0, 0, 0, 0, 0, 0,\n",
       "       0, 0, 0, 0, 0, 0, 0, 0, 0, 0, 0, 0, 0, 0, 0, 0, 0, 0, 0, 0, 0, 0,\n",
       "       0, 0, 0, 0, 0, 0, 0, 0, 0, 0, 0, 0, 0, 0, 0, 0, 0, 0, 0, 0, 0, 0,\n",
       "       0, 0, 0, 0, 0, 0, 0, 0, 0, 0, 0, 0, 0, 0, 0, 0, 0, 0, 0, 0, 0, 0,\n",
       "       0, 0, 0, 0, 0, 0, 0, 0, 0, 0, 0, 0, 0, 0, 0, 0, 0, 0, 0, 0, 0, 0,\n",
       "       0, 0, 0, 0])"
      ]
     },
     "execution_count": 12,
     "metadata": {},
     "output_type": "execute_result"
    }
   ],
   "source": [
    "temp_df = pd.read_csv(class2_distances, index_col=[0])\n",
    "diststr = 'precomputed'\n",
    "\n",
    "model = OPTICS(metric=diststr)\n",
    "model.fit_predict(temp_df.values)"
   ]
  },
  {
   "cell_type": "code",
   "execution_count": null,
   "id": "71fc406c-db39-4ae0-8967-3bdc1a5b7454",
   "metadata": {},
   "outputs": [],
   "source": []
  }
 ],
 "metadata": {
  "kernelspec": {
   "display_name": "Python 3 (ipykernel)",
   "language": "python",
   "name": "python3"
  },
  "language_info": {
   "codemirror_mode": {
    "name": "ipython",
    "version": 3
   },
   "file_extension": ".py",
   "mimetype": "text/x-python",
   "name": "python",
   "nbconvert_exporter": "python",
   "pygments_lexer": "ipython3",
   "version": "3.10.5"
  }
 },
 "nbformat": 4,
 "nbformat_minor": 5
}
